{
 "cells": [
  {
   "cell_type": "code",
   "execution_count": 96,
   "metadata": {},
   "outputs": [],
   "source": [
    "import pandas as pd\n",
    "import numpy as np"
   ]
  },
  {
   "cell_type": "code",
   "execution_count": 97,
   "metadata": {},
   "outputs": [],
   "source": [
    "n = 578"
   ]
  },
  {
   "cell_type": "code",
   "execution_count": 98,
   "metadata": {},
   "outputs": [
    {
     "data": {
      "text/plain": [
       "array([[0.        , 0.00466516, 0.00759291, ..., 0.00469103, 0.0047618 ,\n",
       "        0.00346845],\n",
       "       [0.00307812, 0.        , 0.00577419, ..., 0.0035649 , 0.00361874,\n",
       "        0.00263503],\n",
       "       [0.00165602, 0.00190773, 0.        , ..., 0.00191834, 0.00194736,\n",
       "        0.00141735],\n",
       "       ...,\n",
       "       [0.00290714, 0.00334839, 0.00545428, ..., 0.        , 0.00341784,\n",
       "        0.00248861],\n",
       "       [0.00199286, 0.00229565, 0.00374194, ..., 0.00230841, 0.        ,\n",
       "        0.00170573],\n",
       "       [0.04810323, 0.05502574, 0.08680229, ..., 0.05531536, 0.05610671,\n",
       "        0.        ]])"
      ]
     },
     "execution_count": 98,
     "metadata": {},
     "output_type": "execute_result"
    }
   ],
   "source": [
    "rows = pd.read_csv('probability_matrix.csv', index_col='Unnamed: 0').to_numpy()\n",
    "rows"
   ]
  },
  {
   "cell_type": "code",
   "execution_count": 114,
   "metadata": {},
   "outputs": [],
   "source": [
    "from collections import deque\n",
    "from tqdm import tqdm"
   ]
  },
  {
   "cell_type": "code",
   "execution_count": 115,
   "metadata": {},
   "outputs": [],
   "source": [
    "fans = np.random.rand(578)*10000\n",
    "fans = fans.astype(int)"
   ]
  },
  {
   "cell_type": "code",
   "execution_count": 118,
   "metadata": {},
   "outputs": [
    {
     "name": "stderr",
     "output_type": "stream",
     "text": [
      "100%|██████████| 578/578 [00:34<00:00, 16.53it/s]\n"
     ]
    }
   ],
   "source": [
    "round = []\n",
    "\n",
    "\n",
    "for i in tqdm(range(n)):\n",
    "\n",
    "    fan = 0\n",
    "    for _ in range(10):\n",
    "        activated = np.array([False for _ in range(n)])\n",
    "        activated[i] = True\n",
    "        new_ones = deque([i])\n",
    "        \n",
    "        while new_ones:\n",
    "            j = new_ones.popleft()\n",
    "            fan += fans[j]\n",
    "            row = rows[j]\n",
    "            p = np.random.uniform(0, 1, n)\n",
    "            success = p < row\n",
    "            success = success & ~activated\n",
    "            new_ones.extend(np.where(success)[0].tolist())\n",
    "            activated |= success\n",
    "    \n",
    "    fan//=10\n",
    "    round.append(fan)\n"
   ]
  }
 ],
 "metadata": {
  "kernelspec": {
   "display_name": "Python 3",
   "language": "python",
   "name": "python3"
  },
  "language_info": {
   "codemirror_mode": {
    "name": "ipython",
    "version": 3
   },
   "file_extension": ".py",
   "mimetype": "text/x-python",
   "name": "python",
   "nbconvert_exporter": "python",
   "pygments_lexer": "ipython3",
   "version": "3.8.10"
  },
  "orig_nbformat": 4
 },
 "nbformat": 4,
 "nbformat_minor": 2
}

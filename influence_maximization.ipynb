{
 "cells": [
  {
   "attachments": {},
   "cell_type": "markdown",
   "metadata": {},
   "source": [
    "# Foodvocate: Influence Maximization Model\n",
    "Author: [Meng-Chieh Liu](https://github.com/MengChiehLiu)  \n",
    "Date: 2023/6/2"
   ]
  },
  {
   "cell_type": "code",
   "execution_count": 73,
   "metadata": {},
   "outputs": [],
   "source": [
    "import pandas as pd\n",
    "import numpy as np\n",
    "from collections import deque\n",
    "from tqdm import tqdm\n",
    "from Instagram.data.datasets import fans_count, bloggers\n",
    "from queue import Queue\n",
    "from threading import Thread, Lock\n",
    "import os"
   ]
  },
  {
   "cell_type": "code",
   "execution_count": 74,
   "metadata": {},
   "outputs": [],
   "source": [
    "n = 578\n",
    "prob_matrix = pd.read_csv('data/probability_matrix.csv', index_col='Unnamed: 0').to_numpy()"
   ]
  },
  {
   "attachments": {},
   "cell_type": "markdown",
   "metadata": {},
   "source": [
    "## Expected Influence"
   ]
  },
  {
   "cell_type": "code",
   "execution_count": 75,
   "metadata": {},
   "outputs": [],
   "source": [
    "fans = np.array(list(fans_count.values()))\n",
    "costs = fans//10"
   ]
  },
  {
   "cell_type": "code",
   "execution_count": 76,
   "metadata": {},
   "outputs": [],
   "source": [
    "influence = (np.dot(prob_matrix, fans) + fans).astype(int)\n",
    "influence_ratio = influence//costs"
   ]
  },
  {
   "cell_type": "code",
   "execution_count": 87,
   "metadata": {},
   "outputs": [
    {
     "data": {
      "text/plain": [
       "{'aries_8248': 777254,\n",
       " 'popyummy_mag': 618775,\n",
       " '4foodie': 562071,\n",
       " 'soon6669': 440576,\n",
       " 'solo_guide': 435759,\n",
       " 'nini_food0822': 398478,\n",
       " 'girlstalk.tw': 385906,\n",
       " '77.food': 382852,\n",
       " 'foody_tw': 375881,\n",
       " 'minmin_rd': 345591}"
      ]
     },
     "execution_count": 87,
     "metadata": {},
     "output_type": "execute_result"
    }
   ],
   "source": [
    "# expected top 10 bloggers (influence)\n",
    "{bloggers[i]:influence[i] for i in influence.argsort()[::-1][:10]}"
   ]
  },
  {
   "cell_type": "code",
   "execution_count": 78,
   "metadata": {},
   "outputs": [
    {
     "data": {
      "text/plain": [
       "{'chloe_foodii': 1091,\n",
       " 'iz.ifood': 882,\n",
       " 'sweetfood_tony': 763,\n",
       " 'yuly.eat': 753,\n",
       " 'choosy_in_food': 631,\n",
       " '_foodisall': 581,\n",
       " 'bella_food4life': 560,\n",
       " '_foodom': 542,\n",
       " 'lala_foodlife': 513,\n",
       " 'titi_eatfood': 463}"
      ]
     },
     "execution_count": 78,
     "metadata": {},
     "output_type": "execute_result"
    }
   ],
   "source": [
    "# expected top 10 bloggers (influence_ratio)\n",
    "{bloggers[i]:influence_ratio[i] for i in influence_ratio.argsort()[::-1][:10]}"
   ]
  },
  {
   "attachments": {},
   "cell_type": "markdown",
   "metadata": {},
   "source": [
    "## Influence Maximiztion"
   ]
  },
  {
   "cell_type": "code",
   "execution_count": 29,
   "metadata": {},
   "outputs": [],
   "source": [
    "def runThreading(my_queue, initial_points, func, thread_amount):\n",
    "    class Worker(Thread):\n",
    "        def __init__(self, queue, initial_points):\n",
    "            Thread.__init__(self)\n",
    "            self.queue = queue\n",
    "            self.initial_points = initial_points\n",
    "\n",
    "        def run(self):\n",
    "            while self.queue.qsize() > 0:\n",
    "                element = self.queue.get()\n",
    "                func(self.initial_points)\n",
    "    \n",
    "    # workers start working\n",
    "    workers = [Worker(my_queue, initial_points) for _ in range(thread_amount)]\n",
    "    for worker in workers:\n",
    "        worker.start()\n",
    "    for worker in workers:\n",
    "        worker.join()"
   ]
  },
  {
   "cell_type": "code",
   "execution_count": 82,
   "metadata": {},
   "outputs": [],
   "source": [
    "def inforamtionCascade(initial_points, cost_limit=False):\n",
    "    k = 1000\n",
    "    lock = Lock()\n",
    "    cumulated_fans = [np.zeros(n)]\n",
    "    cost = 0\n",
    "    for i in initial_points:\n",
    "        cost += fans_count[i]//10\n",
    "\n",
    "    my_queue = Queue()\n",
    "    for i in range(k):\n",
    "        my_queue.put(i)\n",
    "\n",
    "    def func(initial_points):\n",
    "        fans = np.zeros(n)\n",
    "\n",
    "        for i in range(n):\n",
    "            if i in initial_points:\n",
    "                continue\n",
    "            \n",
    "            fan = 0\n",
    "            activated = np.array([False for _ in range(n)])\n",
    "            new_ones = deque()\n",
    "            for initial_point in initial_points:\n",
    "                activated[initial_point] = True\n",
    "                new_ones.append(initial_point)\n",
    "\n",
    "            activated[i] = True\n",
    "            new_ones.append(i)\n",
    "            \n",
    "            level = 0\n",
    "            while new_ones:\n",
    "                level += 1\n",
    "                _n = len(new_ones)\n",
    "                for _ in range(_n):\n",
    "                    j = new_ones.popleft()\n",
    "                    fan += fans_count[j]\n",
    "                    row = prob_matrix[j]\n",
    "                    p = np.random.uniform(0, 1, n)\n",
    "                    success = p < row\n",
    "                    success = success & ~activated\n",
    "                    new_ones.extend(np.where(success)[0].tolist())\n",
    "                    activated |= success\n",
    "                if level == 2:\n",
    "                    break\n",
    "            \n",
    "            if cost_limit:\n",
    "                fans[i] = fan//(cost+fans_count[i]//10)\n",
    "            else:\n",
    "                fans[i] = fan\n",
    "\n",
    "        lock.acquire()\n",
    "        cumulated_fans[0] += fans\n",
    "        lock.release()\n",
    "\n",
    "    runThreading(my_queue, initial_points, func, os.cpu_count()+1)\n",
    "    \n",
    "    cumulated_fans[0] //= k\n",
    "    \n",
    "    return cumulated_fans[0].argmax(),  cumulated_fans[0].max()"
   ]
  },
  {
   "cell_type": "code",
   "execution_count": 32,
   "metadata": {},
   "outputs": [],
   "source": [
    "def greedy(k, cost_limit=False):\n",
    "    initial_points = []\n",
    "    influences = []\n",
    "    for _ in tqdm(range(k)):\n",
    "        new_point, influence = inforamtionCascade(initial_points, cost_limit)\n",
    "        initial_points.append(new_point)\n",
    "        influences.append(influence)\n",
    "    return initial_points, influences"
   ]
  },
  {
   "cell_type": "code",
   "execution_count": 83,
   "metadata": {},
   "outputs": [
    {
     "name": "stderr",
     "output_type": "stream",
     "text": [
      "100%|██████████| 10/10 [41:25<00:00, 248.51s/it]\n"
     ]
    },
    {
     "data": {
      "text/plain": [
       "{'aries_8248': 776739.0,\n",
       " 'popyummy_mag': 1397739.0,\n",
       " '4foodie': 1956492.0,\n",
       " 'soon6669': 2383690.0,\n",
       " 'solo_guide': 2793142.0,\n",
       " 'nini_food0822': 3188340.0,\n",
       " 'girlstalk.tw': 3568251.0,\n",
       " '77.food': 3929904.0,\n",
       " 'foody_tw': 4296958.0,\n",
       " 'minmin_rd': 4612913.0}"
      ]
     },
     "execution_count": 83,
     "metadata": {},
     "output_type": "execute_result"
    }
   ],
   "source": [
    "# Top 10 bloggers (influence)\n",
    "influences_points, influences = greedy(10, cost_limit=False)\n",
    "{bloggers[i]:j for i, j in zip(influences_points, influences)}"
   ]
  },
  {
   "cell_type": "code",
   "execution_count": 79,
   "metadata": {},
   "outputs": [
    {
     "data": {
      "text/plain": [
       "{'chloe_foodii': 1034.0,\n",
       " 'sweetfood_tony': 959.0,\n",
       " 'iz.ifood': 890.0,\n",
       " 'yuly.eat': 889.0,\n",
       " 'choosy_in_food': 811.0,\n",
       " '_foodisall': 747.0,\n",
       " 'kk8at': 712.0,\n",
       " 'lala_foodlife': 698.0,\n",
       " 'rizi_vie_': 643.0,\n",
       " 'minnie.life_': 637.0}"
      ]
     },
     "execution_count": 79,
     "metadata": {},
     "output_type": "execute_result"
    }
   ],
   "source": [
    "# Top 10 bloggers (influence_ratio)\n",
    "influences_ratio_points, influences_ratio = greedy(10, cost_limit=True)\n",
    "{bloggers[i]:j for i, j in zip(influences_ratio_points, influences_ratio)}"
   ]
  }
 ],
 "metadata": {
  "kernelspec": {
   "display_name": "Python 3",
   "language": "python",
   "name": "python3"
  },
  "language_info": {
   "codemirror_mode": {
    "name": "ipython",
    "version": 3
   },
   "file_extension": ".py",
   "mimetype": "text/x-python",
   "name": "python",
   "nbconvert_exporter": "python",
   "pygments_lexer": "ipython3",
   "version": "3.8.10"
  },
  "orig_nbformat": 4
 },
 "nbformat": 4,
 "nbformat_minor": 2
}

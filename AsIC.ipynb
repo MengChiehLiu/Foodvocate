{
 "cells": [
  {
   "cell_type": "code",
   "execution_count": 40,
   "metadata": {},
   "outputs": [],
   "source": [
    "from Instagram.data.datasets import datasets, bloggers\n",
    "import numpy as np\n",
    "from scipy.optimize import minimize\n",
    "import pickle\n",
    "import pandas as pd\n",
    "import warnings\n",
    "warnings.simplefilter(action='ignore', category=RuntimeWarning)"
   ]
  },
  {
   "cell_type": "code",
   "execution_count": 42,
   "metadata": {},
   "outputs": [],
   "source": [
    "# config\n",
    "n = 578 # nodes\n",
    "max_timeDecay = 30 # days\n",
    "beta_theta = np.zeros(n*4) # initialize value\n",
    "connected_node = 30 # average node connected -> next: adjustable according to fans"
   ]
  },
  {
   "cell_type": "code",
   "execution_count": 43,
   "metadata": {},
   "outputs": [],
   "source": [
    "bloggers_index = {v:k for k,v in bloggers.items()}"
   ]
  },
  {
   "cell_type": "code",
   "execution_count": 44,
   "metadata": {},
   "outputs": [],
   "source": [
    "new_datasets = []\n",
    "\n",
    "for dataset in datasets:\n",
    "    new_dataset = []\n",
    "    first_time_stamp = dataset[0][1]\n",
    "    for user_name, time_stamp in dataset:\n",
    "        new_dataset.append((bloggers_index[user_name], (time_stamp-first_time_stamp)/86400))\n",
    "    new_datasets.append(new_dataset)"
   ]
  },
  {
   "cell_type": "code",
   "execution_count": 45,
   "metadata": {},
   "outputs": [],
   "source": [
    "A = []\n",
    "T = []\n",
    "C = []\n",
    "W = []\n",
    "for new_dataset in new_datasets:\n",
    "    Activated = []\n",
    "    TimeDacays = []\n",
    "    c = np.ones(n)\n",
    "    w = []\n",
    "\n",
    "    for i in range(1, len(new_dataset)): # node be triggered (after)\n",
    "        node2, time2 = new_dataset[i]\n",
    "        c[node2] = 0\n",
    "        activated = np.array([])\n",
    "        timeDacays = np.array([])\n",
    "\n",
    "        for j in range(i): # node trigger (before)\n",
    "            node1, time1 = new_dataset[j]\n",
    "            if time2-time1 <= max_timeDecay:\n",
    "                x = np.zeros(n*2)\n",
    "                x[node1] = 1\n",
    "                x[n+node2] = 1\n",
    "                activated = np.concatenate([activated, x])\n",
    "                timeDacays = np.append(timeDacays, time2-time1)\n",
    "\n",
    "        if timeDacays.size > 0:\n",
    "            w.append(node2)\n",
    "            Activated.append(activated.reshape(-1, n*2))\n",
    "            TimeDacays.append(timeDacays)\n",
    "    \n",
    "    A.append(Activated)\n",
    "    T.append(TimeDacays)\n",
    "    C.append(c)\n",
    "    W.append(w)"
   ]
  },
  {
   "cell_type": "code",
   "execution_count": 46,
   "metadata": {},
   "outputs": [],
   "source": [
    "diagonal = np.eye(n)\n",
    "g_matrixs = []\n",
    "for i in range(n):\n",
    "    g_matrix = np.zeros((n,n))\n",
    "    g_matrix[:, i] = 1\n",
    "    g_matrix = np.concatenate((g_matrix, diagonal), axis=1)\n",
    "    g_matrixs.append(g_matrix)"
   ]
  },
  {
   "cell_type": "code",
   "execution_count": 47,
   "metadata": {},
   "outputs": [],
   "source": [
    "### beta's grad ###\n",
    "# beta here is np.dot(X, beta)\n",
    "# p = sigmoid(beta)\n",
    "# r = np.exp(theta)\n",
    "# prob = p*r*np.exp(-r*time_dacays)\n",
    "# neg_prob = p*np.exp(-r*time_dacays) + (1-p)\n",
    "\n",
    "# d(prob) / d(p) = r * np.exp(-r * time_dacays)  \n",
    "# d(neg_prob) / d(p) = np.exp(-r * time_dacays) - 1\n",
    "# d(p) / d(beta) = p * (1-p)\n",
    "# d(prob) / d(beta) = r * np.exp(-r * time_dacays) * p * (1-p)\n",
    "#                   = prob * (1-p)\n",
    "# d(neg_prob) / d(beta) = (np.exp(-r * time_dacays) - 1) * p * (1-p)\n",
    "\n",
    "\n",
    "### theta's grad ###\n",
    "# theta here is np.dot(X, theta)\n",
    "# p = sigmoid(beta)\n",
    "# r = np.exp(theta)\n",
    "# prob = p*r*np.exp(-r*time_dacays)\n",
    "# neg_prob = p*np.exp(-r*time_dacays) + (1-p)\n",
    "\n",
    "# d(prob) / d(r) = (d(p*r)/d(r) * np.exp(-r*time_dacays)) + (d(np.exp(-r*time_dacays))/d(r)* (p*r))\n",
    "#                = p*np.exp(-r*time_dacays) + -time_dacays*np.exp(-r*time_dacays)*(p*r)\n",
    "#                = (p - p*r*time_dacays) * np.exp(-r*time_dacays)\n",
    "#                = p * (1 - r * time_dacays) * np.exp(-r * time_dacays)\n",
    "# d(neg_prob) / d(r) = d(neg_prob)/d(np.exp(-r*time_dacays)) * d(np.exp(-r*time_dacays))/d(r)\n",
    "#                    = p * (-time_dacays * np.exp(-r * time_dacays))\n",
    "#                    = -p * time_dacays * np.exp(-r * time_dacays)\n",
    "# d(r) / d(theta) = r\n",
    "# d(prob) / d(theta) = p * (1 - r * time_dacays) * np.exp(-r * time_dacays) * r\n",
    "#                    = prob * (1 - r * time_dacays)\n",
    "# d(neg_prob) / d(theta) = -p * time_dacays * np.exp(-r * time_dacays) * r"
   ]
  },
  {
   "cell_type": "code",
   "execution_count": 48,
   "metadata": {},
   "outputs": [],
   "source": [
    "def sigmoid(X):\n",
    "    return 1 / (1 + np.exp(-X))\n",
    "\n",
    "def cal_prob(p, r, time_dacays):\n",
    "    prob = p*r*np.exp(-r*time_dacays)\n",
    "    beta_grad = prob * (1-p)\n",
    "    theta_grad = prob * (1 - r * time_dacays)\n",
    "    return prob, beta_grad, theta_grad\n",
    "\n",
    "def cal_neg_prob(p, r, time_dacays):\n",
    "    neg_prob = p*np.exp(-r*time_dacays)+(1-p)\n",
    "    neg_beta_grad = (np.exp(-r * time_dacays) - 1) * p * (1-p)\n",
    "    neg_theta_grad = -p * time_dacays * np.exp(-r * time_dacays) * r\n",
    "    return neg_prob, neg_beta_grad, neg_theta_grad"
   ]
  },
  {
   "cell_type": "code",
   "execution_count": 49,
   "metadata": {},
   "outputs": [],
   "source": [
    "### h' grad\n",
    "# beta here is np.dot(X, beta)\n",
    "# a = np.log(neg_probs).sum(), b = np.log(const)\n",
    "# const = (probs/neg_probs).sum()\n",
    "\n",
    "# d(a) / d(beta) = d(a)/d(neg_probs) * d(neg_probs)/d(beta)\n",
    "#                = ((1/neg_probs) * neg_beta_grad).sum()\n",
    "# d(b) / d(beta) = d(b) / d(const) * d(const) / d(beta)\n",
    "#                = 1/const * (d(probs)/d(beta) * neg_probs - probs * d(neg_probs)/d(beta)) / neg_probs*neg_probs\n",
    "#                = 1/const * (beta_grad*neg_probs - probs*neg_beta_grad)/neg_probs*neg_probs\n",
    "# d(h) / d(beta) = d(a)/d(beta) + d(b)/d(beta) \n",
    "#                = ((1/neg_probs) * neg_beta_grad).sum() + 1/const * (beta_grad*neg_probs - probs*neg_beta_grad)/neg_probs*neg_probs\n",
    "\n",
    "# thete is the same as beta"
   ]
  },
  {
   "cell_type": "code",
   "execution_count": 50,
   "metadata": {},
   "outputs": [],
   "source": [
    "def cal_h_grad(x, const, probs, neg_probs, beta_grad, neg_beta_grad, theta_grad, neg_theta_grad):\n",
    "    beta_grad = (1/neg_probs)*neg_beta_grad + 1/const * (beta_grad*neg_probs - probs*neg_beta_grad)/neg_probs*neg_probs\n",
    "    theta_gard = (1/neg_probs)*neg_theta_grad + 1/const * (theta_grad*neg_probs - probs*neg_theta_grad)/neg_probs*neg_probs\n",
    "    return np.concatenate((np.dot(beta_grad, x), np.dot(theta_gard, x)))"
   ]
  },
  {
   "cell_type": "code",
   "execution_count": 51,
   "metadata": {},
   "outputs": [],
   "source": [
    "### g' grad\n",
    "# beta here is np.dot(X, beta)\n",
    "# p = sigmoid(beta)\n",
    "# g_probs = 1-p\n",
    "# g = log(g_probs)*c\n",
    "\n",
    "# d(g_probs)/d(beta) = -p * (1-p)\n",
    "# d(g) / d(beta) = d(g)/d(g_probs) * d(g_probs)/d(beta)\n",
    "#                = c/(1-p) * -p * (1-p)\n",
    "#                = -c*p"
   ]
  },
  {
   "cell_type": "code",
   "execution_count": 52,
   "metadata": {},
   "outputs": [],
   "source": [
    "def cal_g_prob(X, beta, c):\n",
    "    p = sigmoid(np.dot(X, beta))\n",
    "    return 1-p, -p*c"
   ]
  },
  {
   "cell_type": "code",
   "execution_count": 53,
   "metadata": {},
   "outputs": [],
   "source": [
    "def negative_log_likelihood(beta_theta):\n",
    "    beta = beta_theta[:n*2]\n",
    "    theta = beta_theta[n*2:]\n",
    "\n",
    "    log_likelihood = 0\n",
    "    gradients = np.zeros_like(beta_theta)  # initialize gradients\n",
    "\n",
    "    for Activated, TimeDacays, c, w in zip(A, T, C, W):\n",
    "\n",
    "        for x, dacays, idx in zip(Activated, TimeDacays, w):\n",
    "            p = sigmoid(np.dot(x, beta))\n",
    "            r = np.exp(np.dot(x, theta))\n",
    "            \n",
    "            probs, beta_grad, theta_grad = cal_prob(p, r, dacays) # X\n",
    "            neg_probs, neg_beta_grad, neg_theta_grad = cal_neg_prob(p, r, dacays) # Y\n",
    "            \n",
    "            # calculate h\n",
    "            const = (probs/neg_probs).sum()\n",
    "            if const == 0: const = 1e-5\n",
    "            h = np.ma.log(neg_probs).filled(-10).sum() + np.log(const)\n",
    "            h_grad = cal_h_grad(x, const, probs, neg_probs, beta_grad, neg_beta_grad, theta_grad, neg_theta_grad)\n",
    "\n",
    "            # calculate g\n",
    "            g_probs, g_grad = cal_g_prob(g_matrixs[idx], beta, c)\n",
    "            g = (np.log(g_probs)*c).sum() * connected_node/n\n",
    "            g_grad = np.dot(g_grad, g_matrixs[idx]) * connected_node/n\n",
    "\n",
    "            # update\n",
    "            log_likelihood -= h+g\n",
    "            gradients -= h_grad\n",
    "            gradients[:2*n] -= g_grad\n",
    "\n",
    "    print(f'\\rlog_likelihood: {log_likelihood}', end='')\n",
    "    return log_likelihood, gradients"
   ]
  },
  {
   "cell_type": "code",
   "execution_count": 54,
   "metadata": {},
   "outputs": [],
   "source": [
    "bounds = [(-10,10) for _ in range(n*4)]"
   ]
  },
  {
   "cell_type": "code",
   "execution_count": 55,
   "metadata": {},
   "outputs": [
    {
     "name": "stdout",
     "output_type": "stream",
     "text": [
      "log_likelihood: 4631.5480327855615"
     ]
    }
   ],
   "source": [
    "maxmize_log_likelihood = minimize(negative_log_likelihood, x0=beta_theta, method='L-BFGS-B',\n",
    "                                  jac=True, bounds=bounds, options={'gtol':1e-6})"
   ]
  },
  {
   "cell_type": "code",
   "execution_count": 56,
   "metadata": {},
   "outputs": [],
   "source": [
    "with open('beta_theta.pkl', 'wb') as f:\n",
    "    pickle.dump(maxmize_log_likelihood.x, f)"
   ]
  },
  {
   "attachments": {},
   "cell_type": "markdown",
   "metadata": {},
   "source": [
    "## Probability Matrix"
   ]
  },
  {
   "cell_type": "code",
   "execution_count": 57,
   "metadata": {},
   "outputs": [],
   "source": [
    "with open('beta_theta.pkl', 'rb') as f:\n",
    "    optimized_beta_theta = pickle.load(f)"
   ]
  },
  {
   "cell_type": "code",
   "execution_count": 58,
   "metadata": {},
   "outputs": [],
   "source": [
    "optimized_beta = optimized_beta_theta[:2*n]\n",
    "optimized_theta = optimized_beta_theta[2*n:]"
   ]
  },
  {
   "cell_type": "code",
   "execution_count": 59,
   "metadata": {},
   "outputs": [],
   "source": [
    "probability_matrix = np.array([])"
   ]
  },
  {
   "cell_type": "code",
   "execution_count": 60,
   "metadata": {},
   "outputs": [],
   "source": [
    "for g_matrix in g_matrixs:\n",
    "    \n",
    "    prob_row = sigmoid(np.dot(g_matrix, optimized_beta))\n",
    "    probability_matrix = np.concatenate((probability_matrix, prob_row))\n",
    "\n",
    "probability_matrix = probability_matrix.reshape(-1, n)"
   ]
  },
  {
   "cell_type": "code",
   "execution_count": 61,
   "metadata": {},
   "outputs": [],
   "source": [
    "df = pd.DataFrame(probability_matrix)\n",
    "for i in range(n):\n",
    "    df[i][i] = 0"
   ]
  },
  {
   "cell_type": "code",
   "execution_count": 62,
   "metadata": {},
   "outputs": [],
   "source": [
    "df.to_csv('probability_matrix.csv')"
   ]
  },
  {
   "cell_type": "code",
   "execution_count": 63,
   "metadata": {},
   "outputs": [
    {
     "data": {
      "text/plain": [
       "0      0.000000\n",
       "333    0.000022\n",
       "376    0.000022\n",
       "323    0.000036\n",
       "567    0.000092\n",
       "         ...   \n",
       "279    0.974568\n",
       "429    0.975971\n",
       "330    0.980887\n",
       "103    0.987199\n",
       "144    0.988877\n",
       "Name: 0, Length: 578, dtype: float64"
      ]
     },
     "execution_count": 63,
     "metadata": {},
     "output_type": "execute_result"
    }
   ],
   "source": [
    "df[0].sort_values()"
   ]
  },
  {
   "cell_type": "code",
   "execution_count": 67,
   "metadata": {},
   "outputs": [
    {
     "data": {
      "text/plain": [
       "'enjoylifestyle.yolo'"
      ]
     },
     "execution_count": 67,
     "metadata": {},
     "output_type": "execute_result"
    }
   ],
   "source": [
    "bloggers[103]"
   ]
  },
  {
   "cell_type": "code",
   "execution_count": 65,
   "metadata": {},
   "outputs": [
    {
     "data": {
      "text/plain": [
       "0.344719235171288"
      ]
     },
     "execution_count": 65,
     "metadata": {},
     "output_type": "execute_result"
    }
   ],
   "source": [
    "test = df.T.describe().T\n",
    "(test['max']-test['25%']).mean()"
   ]
  }
 ],
 "metadata": {
  "kernelspec": {
   "display_name": "Python 3",
   "language": "python",
   "name": "python3"
  },
  "language_info": {
   "codemirror_mode": {
    "name": "ipython",
    "version": 3
   },
   "file_extension": ".py",
   "mimetype": "text/x-python",
   "name": "python",
   "nbconvert_exporter": "python",
   "pygments_lexer": "ipython3",
   "version": "3.8.10"
  },
  "orig_nbformat": 4
 },
 "nbformat": 4,
 "nbformat_minor": 2
}

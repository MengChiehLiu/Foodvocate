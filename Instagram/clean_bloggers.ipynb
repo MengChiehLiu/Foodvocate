{
 "cells": [
  {
   "attachments": {},
   "cell_type": "markdown",
   "metadata": {},
   "source": [
    "# Foodvocate: Instagram data cleaning\n",
    "Author: [Meng-Chieh Liu](https://github.com/MengChiehLiu)  \n",
    "Date: 2023/5/22"
   ]
  },
  {
   "cell_type": "code",
   "execution_count": 41,
   "metadata": {},
   "outputs": [],
   "source": [
    "import pandas as pd\n",
    "import os\n",
    "from collections import defaultdict\n",
    "from tqdm import tqdm"
   ]
  },
  {
   "attachments": {},
   "cell_type": "markdown",
   "metadata": {},
   "source": [
    "## Filter"
   ]
  },
  {
   "cell_type": "code",
   "execution_count": 42,
   "metadata": {},
   "outputs": [],
   "source": [
    "paths = os.listdir('data/posts')\n",
    "bloggers_filter = defaultdict(int)\n",
    "\n",
    "def clean_bloggers(path):\n",
    "    df = pd.read_csv('data/posts/'+path)\n",
    "    df = df[df['like_count']>=100]\n",
    "    for user in df['username']:\n",
    "        bloggers_filter[user] += 1"
   ]
  },
  {
   "cell_type": "code",
   "execution_count": 43,
   "metadata": {},
   "outputs": [
    {
     "name": "stderr",
     "output_type": "stream",
     "text": [
      "100%|██████████| 108/108 [00:00<00:00, 294.00it/s]\n"
     ]
    }
   ],
   "source": [
    "train_data = []\n",
    "\n",
    "for path in tqdm(paths):\n",
    "    clean_bloggers(path)"
   ]
  },
  {
   "cell_type": "code",
   "execution_count": 44,
   "metadata": {},
   "outputs": [
    {
     "data": {
      "text/plain": [
       "3409"
      ]
     },
     "execution_count": 44,
     "metadata": {},
     "output_type": "execute_result"
    }
   ],
   "source": [
    "# before filtering\n",
    "len(pd.read_csv('data/bloggers.csv', index_col='Unnamed: 0'))"
   ]
  },
  {
   "cell_type": "code",
   "execution_count": 45,
   "metadata": {},
   "outputs": [],
   "source": [
    "bloggers_df = pd.read_csv('data/bloggers.csv', index_col='Unnamed: 0')\n",
    "bloggers_df['frequency'] = bloggers_df.index.map(lambda x: bloggers_filter.get(x, 0))\n",
    "bloggers_df = bloggers_df[bloggers_df['frequency']>1]\n",
    "bloggers_df.to_csv('data/new_bloggers.csv')"
   ]
  },
  {
   "cell_type": "code",
   "execution_count": 46,
   "metadata": {},
   "outputs": [
    {
     "data": {
      "text/plain": [
       "578"
      ]
     },
     "execution_count": 46,
     "metadata": {},
     "output_type": "execute_result"
    }
   ],
   "source": [
    "# after filtering\n",
    "len(bloggers_df.index)"
   ]
  },
  {
   "attachments": {},
   "cell_type": "markdown",
   "metadata": {},
   "source": [
    "* After filtering, run get_fans.py first."
   ]
  },
  {
   "attachments": {},
   "cell_type": "markdown",
   "metadata": {},
   "source": [
    "## datasets"
   ]
  },
  {
   "cell_type": "code",
   "execution_count": 47,
   "metadata": {},
   "outputs": [],
   "source": [
    "def reformat(path):\n",
    "    df = pd.read_csv('data/posts/'+path)\n",
    "    df = df[df['username'].map(lambda x: x in bloggers_df.index)]\n",
    "    df = df.sort_values('taken_at')[['username','taken_at']]\n",
    "    return list(zip(*map(df.get, df)))"
   ]
  },
  {
   "cell_type": "code",
   "execution_count": 48,
   "metadata": {},
   "outputs": [
    {
     "name": "stderr",
     "output_type": "stream",
     "text": [
      "100%|██████████| 108/108 [00:00<00:00, 267.36it/s]\n"
     ]
    }
   ],
   "source": [
    "datasets = []\n",
    "for path in tqdm(paths):\n",
    "    data = reformat(path)\n",
    "    if len(data) > 10:\n",
    "        datasets.append(data)"
   ]
  },
  {
   "attachments": {},
   "cell_type": "markdown",
   "metadata": {},
   "source": [
    "* write to Instagram.data.datasets.py"
   ]
  },
  {
   "attachments": {},
   "cell_type": "markdown",
   "metadata": {},
   "source": [
    "## bloggers"
   ]
  },
  {
   "cell_type": "code",
   "execution_count": 49,
   "metadata": {},
   "outputs": [],
   "source": [
    "bloggers = {i:blogger for i, blogger in enumerate(bloggers_df.index)}"
   ]
  },
  {
   "attachments": {},
   "cell_type": "markdown",
   "metadata": {},
   "source": [
    "* write to Instagram.data.datasets.py"
   ]
  },
  {
   "attachments": {},
   "cell_type": "markdown",
   "metadata": {},
   "source": [
    "## fans_count"
   ]
  },
  {
   "cell_type": "code",
   "execution_count": 54,
   "metadata": {},
   "outputs": [],
   "source": [
    "fans = pd.read_csv('data/new_bloggers_with_fans.csv', index_col='Unnamed: 0')['fans'].to_dict()"
   ]
  },
  {
   "cell_type": "code",
   "execution_count": 56,
   "metadata": {},
   "outputs": [],
   "source": [
    "fans_count = {}\n",
    "for i, blogger in bloggers.items():\n",
    "    fans_count[i] = fans[blogger]"
   ]
  },
  {
   "attachments": {},
   "cell_type": "markdown",
   "metadata": {},
   "source": [
    "* write to Instagram.data.datasets.py"
   ]
  },
  {
   "attachments": {},
   "cell_type": "markdown",
   "metadata": {},
   "source": [
    "## frequency_count"
   ]
  },
  {
   "cell_type": "code",
   "execution_count": 63,
   "metadata": {},
   "outputs": [],
   "source": [
    "frequency_count = bloggers_df['frequency'].reset_index(drop=True).to_dict()"
   ]
  },
  {
   "attachments": {},
   "cell_type": "markdown",
   "metadata": {},
   "source": [
    "* write to Instagram.data.datasets.py"
   ]
  }
 ],
 "metadata": {
  "kernelspec": {
   "display_name": "Python 3",
   "language": "python",
   "name": "python3"
  },
  "language_info": {
   "codemirror_mode": {
    "name": "ipython",
    "version": 3
   },
   "file_extension": ".py",
   "mimetype": "text/x-python",
   "name": "python",
   "nbconvert_exporter": "python",
   "pygments_lexer": "ipython3",
   "version": "3.8.10"
  },
  "orig_nbformat": 4
 },
 "nbformat": 4,
 "nbformat_minor": 2
}
